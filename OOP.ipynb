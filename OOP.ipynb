{
 "cells": [
  {
   "cell_type": "markdown",
   "metadata": {},
   "source": [
    "# Object Oriented Programing \n",
    "Before starting the object oriented programing, we better understand the follwoing terms first! In the follwoing I have included bunch of examples about some fancy terms !\n",
    "\n",
    "# 1. Fancy Terms!\n",
    "## 1.1 First Class Functions\n",
    "First we are going to learn about First-Class functions. A wikipedia defenition is: \"In computer science, a programming language is said to have first-class functions if it treats functions as first-class citizens. This means the language supports passing functions as arguments to other functions, returning them as the values from other functions, and assigning them to variables or storing them in data structures\". In simple terms it means that we can assign a function to a variable and also we can call a function inside another function. Also, we can have a function inside another function and return that funciton!  "
   ]
  },
  {
   "cell_type": "code",
   "execution_count": 1,
   "metadata": {},
   "outputs": [
    {
     "name": "stdout",
     "output_type": "stream",
     "text": [
      "25\n",
      "<function f_s at 0x10cd91840>\n",
      "25\n"
     ]
    }
   ],
   "source": [
    "def f_s(x):\n",
    "    return x**2\n",
    "\n",
    "# Assigning the value of the function to a variable \n",
    "val = f_s(5)\n",
    "# Assigning the function itself to a variable\n",
    "function = f_s\n",
    "print(val)\n",
    "print(function)\n",
    "# Now let's return the same value using function which we assigned the function f_s to !\n",
    "print(function(5))"
   ]
  },
  {
   "cell_type": "code",
   "execution_count": 2,
   "metadata": {},
   "outputs": [
    {
     "name": "stdout",
     "output_type": "stream",
     "text": [
      "[1, 4, 9, 16, 25, 36, 49, 64]\n"
     ]
    }
   ],
   "source": [
    "# In this function the first argument is a function and \n",
    "# the second argument is an array! So we call a function inside \n",
    "# another funciton.\n",
    "def mapping(func,args):\n",
    "    result = []\n",
    "    for i in args:\n",
    "        result.append(func(i))\n",
    "    return result\n",
    "\n",
    "# Now let's call function f_s here which simply squares\n",
    "print(mapping(f_s,[1,2,3,4,5,6,7,8]))"
   ]
  },
  {
   "cell_type": "code",
   "execution_count": 3,
   "metadata": {},
   "outputs": [
    {
     "name": "stdout",
     "output_type": "stream",
     "text": [
      "<function take.<locals>.square at 0x10cdbe598>\n",
      "Number squared: 9\n"
     ]
    }
   ],
   "source": [
    "# Now let's return a function from another function\n",
    "def take(num):\n",
    "    \n",
    "    def square():\n",
    "        print('Number squared:',num**2)\n",
    "    \n",
    "    return square\n",
    "\n",
    "# Let's now run 'take' function and see how\n",
    "# it looks like\n",
    "squaring = take(3)\n",
    "print(squaring)\n",
    "\n",
    "# As we see variable squaring got assgined function 'square' from inside the 'take' function!\n",
    "# Let's now execute squaring \n",
    "squaring()"
   ]
  },
  {
   "cell_type": "markdown",
   "metadata": {},
   "source": [
    "**Let's write a play and see how First Functions could have helped Shekspir to write his plays easier !!!!** \n",
    "We also covered closure here!!! A closure closes over the free variables in the local enviroment. BOOM two at once! In the example below **Lear** and **Cordelia** are closures that are waiting to be executed ;) "
   ]
  },
  {
   "cell_type": "code",
   "execution_count": 4,
   "metadata": {},
   "outputs": [
    {
     "name": "stdout",
     "output_type": "stream",
     "text": [
      "Cordelia:Nothing.\n",
      "Lear:Nothing can come of nothing, speak again.\n",
      "Lear:And worse I may be yet: the worst is not So long as we can say, This is the worst.\n"
     ]
    }
   ],
   "source": [
    "def person(prs):\n",
    "    def line(text):\n",
    "        print('{}{}'.format(prs,text))\n",
    "    return line\n",
    "        \n",
    "Cordelia  = person(\"Cordelia:\")\n",
    "Lear = person(\"Lear:\")\n",
    "\n",
    "Cordelia(\"Nothing.\")\n",
    "Lear(\"Nothing can come of nothing, speak again.\")\n",
    "Lear(\"And worse I may be yet: the worst is not So long as we can say, This is the worst.\")\n"
   ]
  },
  {
   "cell_type": "markdown",
   "metadata": {},
   "source": [
    "## 1.2 Let's decorate the code, shall we !!\n",
    "Here we are going to talk about decorative functionality of python. Imagine you want to have a logging file that will show you the number of times you ran a function and the arguments that was used during each run. You do not want to implement logging every time you define and run a function! Here is where we can use decoration. Let's first define a decoration function and see how it works. One thing to mention is that a decoration fuction contains a wrapper, remember the closure ;)"
   ]
  },
  {
   "cell_type": "code",
   "execution_count": 5,
   "metadata": {},
   "outputs": [
    {
     "name": "stdout",
     "output_type": "stream",
     "text": [
      "I am the wrapper, DJ spin that s..t!\n",
      "Reza katebi\n"
     ]
    }
   ],
   "source": [
    "# This a wrapper function\n",
    "def decoration_fun(a_function):\n",
    "    def wrapper_fun(*args, **kwargs):\n",
    "        print(\"I am the wrapper, DJ spin that s..t!\")\n",
    "        return a_function(*args, **kwargs)\n",
    "    return wrapper_fun\n",
    "\n",
    "@decoration_fun\n",
    "def full_name(first,last):\n",
    "    print(\"{} {}\".format(first,last))\n",
    "full_name(\"Reza\", \"katebi\")"
   ]
  },
  {
   "cell_type": "markdown",
   "metadata": {},
   "source": [
    "As you can see above by calling the decoration function before we defined our function, our function got executed through the decoratin funciton. Now you may ask why on earth one should do that! This is where I am going to show you logging example and show you how it turns hell to a sunny beach with a cold beer :) First, let's define the logger decoration funciton:"
   ]
  },
  {
   "cell_type": "code",
   "execution_count": 6,
   "metadata": {
    "collapsed": true
   },
   "outputs": [],
   "source": [
    "def logger(a_function):\n",
    "    import logging\n",
    "    logging.basicConfig(filename = '{}.log'.format(a_function.__name__), level = logging.INFO)\n",
    "    \n",
    "    def wrapper_func(*args, **kwargs):\n",
    "        logging.info('Ran with args {} and {}'.format(args,kwargs))\n",
    "        return a_function(*args, **kwargs)\n",
    "    return wrapper_func"
   ]
  },
  {
   "cell_type": "markdown",
   "metadata": {},
   "source": [
    "Now let's define a simple function and see what this decoration does!"
   ]
  },
  {
   "cell_type": "code",
   "execution_count": 7,
   "metadata": {},
   "outputs": [
    {
     "name": "stdout",
     "output_type": "stream",
     "text": [
      "James,200000\n"
     ]
    }
   ],
   "source": [
    "@logger\n",
    "def name_pay(name,pay):\n",
    "    print(\"{},{}\".format(name,pay))\n",
    "\n",
    "name_pay(\"James\",200000)"
   ]
  },
  {
   "cell_type": "code",
   "execution_count": 8,
   "metadata": {},
   "outputs": [
    {
     "name": "stdout",
     "output_type": "stream",
     "text": [
      "INFO:root:Ran with args ('James', 200000) and {}\r\n"
     ]
    }
   ],
   "source": [
    "!cat name_pay.log "
   ]
  },
  {
   "cell_type": "markdown",
   "metadata": {},
   "source": [
    "As we can see there is a .log file created with the name of the function with the info about the function. Now let's run this function again with other variables and see what happens? "
   ]
  },
  {
   "cell_type": "code",
   "execution_count": 9,
   "metadata": {},
   "outputs": [
    {
     "name": "stdout",
     "output_type": "stream",
     "text": [
      "Joe,300000\n"
     ]
    }
   ],
   "source": [
    "name_pay(\"Joe\", 300000)"
   ]
  },
  {
   "cell_type": "code",
   "execution_count": 10,
   "metadata": {},
   "outputs": [
    {
     "name": "stdout",
     "output_type": "stream",
     "text": [
      "INFO:root:Ran with args ('James', 200000) and {}\r\n",
      "INFO:root:Ran with args ('Joe', 300000) and {}\r\n"
     ]
    }
   ],
   "source": [
    "!cat name_pay.log"
   ]
  },
  {
   "cell_type": "markdown",
   "metadata": {},
   "source": [
    "Now you can see how it can make your life easier! You can call this decoration function before defining a new funciton and it will keep the information about the runs of the function in a .log file with the same name as the function. We can do the same thing with a timer that tells us that how long it takes to execute a function. Let's define a decoration funtion that does this for us!!"
   ]
  },
  {
   "cell_type": "code",
   "execution_count": 11,
   "metadata": {},
   "outputs": [
    {
     "name": "stdout",
     "output_type": "stream",
     "text": [
      "Function forloop took 5.7220458984375e-05 seconds to run!\n",
      "Function doubleForloop took 7.293513298034668 seconds to run!\n"
     ]
    },
    {
     "data": {
      "text/plain": [
       "100000000"
      ]
     },
     "execution_count": 11,
     "metadata": {},
     "output_type": "execute_result"
    }
   ],
   "source": [
    "from functools import wraps\n",
    "def timer(a_function):\n",
    "    import time \n",
    "    def wrapper_fun(*args,**kwargs):\n",
    "        t1 = time.time()\n",
    "        running = a_function(*args,**kwargs)\n",
    "        t2 = time.time()\n",
    "        run_time = t2 - t1\n",
    "        print(\"Function {} took {} seconds to run!\".format(a_function.__name__, run_time))\n",
    "        return running  \n",
    "    return wrapper_fun\n",
    "\n",
    "@timer \n",
    "def forloop(upto):\n",
    "    x = 0\n",
    "    for i in range(upto):\n",
    "        x +=1\n",
    "    return(x)\n",
    "\n",
    "forloop(1000)\n",
    "\n",
    "#########################################\n",
    "\n",
    "@timer\n",
    "def doubleForloop(L1,L2):\n",
    "    x = 0\n",
    "    for i in range(L1):\n",
    "        for j in range(L2):\n",
    "            x += 1\n",
    "    return x\n",
    "\n",
    "doubleForloop(10000,10000)"
   ]
  },
  {
   "cell_type": "markdown",
   "metadata": {},
   "source": [
    "Now let's call both decoration fucntions together and see what happens?"
   ]
  },
  {
   "cell_type": "code",
   "execution_count": 12,
   "metadata": {},
   "outputs": [
    {
     "name": "stdout",
     "output_type": "stream",
     "text": [
      "Function wrapper_func took 0.0005290508270263672 seconds to run!\n"
     ]
    },
    {
     "data": {
      "text/plain": [
       "1000"
      ]
     },
     "execution_count": 12,
     "metadata": {},
     "output_type": "execute_result"
    }
   ],
   "source": [
    "@timer \n",
    "@logger\n",
    "def forloop(upto):\n",
    "    x = 0\n",
    "    for i in range(upto):\n",
    "        x +=1\n",
    "    return(x)\n",
    "\n",
    "forloop(1000)"
   ]
  },
  {
   "cell_type": "markdown",
   "metadata": {},
   "source": [
    "Oops! why it did not print the correct function name? So if switch the order of calling it will generate a wrapper_fun.log instead of function name. In order to avoid these complications we should always wrap our function with the **wraps** decoration from the **functools** in python! Let's redefine our decoration functions! I would suggest you to always do as following and make it a habbit! "
   ]
  },
  {
   "cell_type": "code",
   "execution_count": 13,
   "metadata": {},
   "outputs": [
    {
     "name": "stdout",
     "output_type": "stream",
     "text": [
      "Function forloop took 0.00026297569274902344 seconds to run!\n"
     ]
    },
    {
     "data": {
      "text/plain": [
       "1000"
      ]
     },
     "execution_count": 13,
     "metadata": {},
     "output_type": "execute_result"
    }
   ],
   "source": [
    "from functools import wraps\n",
    "def logger(a_function):\n",
    "    import logging\n",
    "    logging.basicConfig(filename = '{}.log'.format(a_function.__name__), level = logging.INFO)\n",
    "    # This part is where we use wraps decoration\n",
    "    @wraps(a_function)\n",
    "    def wrapper_func(*args, **kwargs):\n",
    "        logging.info('Ran with args {} and {}'.format(args,kwargs))\n",
    "        return a_function(*args, **kwargs)\n",
    "    return wrapper_func\n",
    "\n",
    "def timer(a_function):\n",
    "    import time \n",
    "    @wraps(a_function)\n",
    "    def wrapper_fun(*args,**kwargs):\n",
    "        t1 = time.time()\n",
    "        running = a_function(*args,**kwargs)\n",
    "        t2 = time.time()\n",
    "        run_time = t2 - t1\n",
    "        print(\"Function {} took {} seconds to run!\".format(a_function.__name__, run_time))\n",
    "        return running  \n",
    "    return wrapper_fun\n",
    "\n",
    "# Now if call both decoration functions everything will look fine\n",
    "@timer \n",
    "@logger\n",
    "def forloop(upto):\n",
    "    x = 0\n",
    "    for i in range(upto):\n",
    "        x +=1\n",
    "    return(x)\n",
    "\n",
    "forloop(1000)"
   ]
  },
  {
   "cell_type": "markdown",
   "metadata": {},
   "source": [
    "## 2. Now let me school you with Class!\n",
    "A wikipedia defenition is \"In object-oriented programming, a class is an extensible program-code-template for creating objects, providing initial values for state (member variables) and implementations of behavior (member functions or methods).\" Imagine we want to have a list of people with their name and family name and their age. We can define them one by one or make class then each of these peaple with their information will become the instances of the class. Before defining a class, I better define what **self** and **__init__** mean. **self** works as it means; it referes to the instance itself! **__init__** initializes! Now, let's construct a class: "
   ]
  },
  {
   "cell_type": "code",
   "execution_count": 14,
   "metadata": {},
   "outputs": [
    {
     "name": "stdout",
     "output_type": "stream",
     "text": [
      "Joe\n",
      "Bing\n"
     ]
    }
   ],
   "source": [
    "class people:\n",
    "    def __init__(self,first,last,age):\n",
    "        self.first = first\n",
    "        self.last  = last\n",
    "        self.age   = age\n",
    "\n",
    "per1 = people('Joe','Tribiani',3000)\n",
    "per2 = people('Chandler','Bing',300000)\n",
    "\n",
    "print(per1.first)\n",
    "print(per2.last)"
   ]
  },
  {
   "cell_type": "markdown",
   "metadata": {},
   "source": [
    "In classes we can define different methods. Let's define a method in our class that prints the full name and age!"
   ]
  },
  {
   "cell_type": "code",
   "execution_count": 15,
   "metadata": {},
   "outputs": [
    {
     "name": "stdout",
     "output_type": "stream",
     "text": [
      "Joe Tribiani is 30 years old!\n"
     ]
    }
   ],
   "source": [
    "class people:\n",
    "    def __init__(self,first,last,age):\n",
    "        self.first = first\n",
    "        self.last  = last\n",
    "        self.age   = age\n",
    "        \n",
    "    def name_age(self):\n",
    "        return '{} {} is {} years old!'.format(self.first, self.last, self.age)\n",
    "\n",
    "per1 = people('Joe','Tribiani',30)\n",
    "per2 = people('Chandler','Bing',33)\n",
    "\n",
    "print(per1.name_age())\n"
   ]
  },
  {
   "cell_type": "markdown",
   "metadata": {},
   "source": [
    "## 2.1 Class Varibles\n",
    "Now imaging we are going to have class for the price of some products and we want to be able to raise the price of them by an amount. We can define a variable in the class for this pupose. Let's see it in action:"
   ]
  },
  {
   "cell_type": "code",
   "execution_count": 16,
   "metadata": {},
   "outputs": [
    {
     "name": "stdout",
     "output_type": "stream",
     "text": [
      "200\n",
      "208.0\n",
      "100\n"
     ]
    }
   ],
   "source": [
    "class item_price:\n",
    "    raise_by = 1.04\n",
    "    def __init__(self,name,price):\n",
    "        self.name = name\n",
    "        self.price = price\n",
    "    \n",
    "    # Method for raising the price\n",
    "    def raising(self):\n",
    "        self.price = self.price * self.raise_by\n",
    "item1 = item_price(\"Ipad\", 200)\n",
    "item2 = item_price(\"Iphone\",100)\n",
    "\n",
    "print(item1.price)\n",
    "item1.raising()\n",
    "print(item1.price)\n",
    "print(item2.price)"
   ]
  },
  {
   "cell_type": "markdown",
   "metadata": {},
   "source": [
    "As we can see by applying **raise_by** method on item1 only the price of that specific item changed! Now imagine that we want to change the **raise_by** variable for one of the items? One good news is that in OOP we can change the value of the variable for each item and it is not gooing to effect other ones. Remember we have instances that are independent of each other. Let's do it:"
   ]
  },
  {
   "cell_type": "code",
   "execution_count": 17,
   "metadata": {},
   "outputs": [
    {
     "name": "stdout",
     "output_type": "stream",
     "text": [
      "1.04\n",
      "1.04\n",
      "1.06\n"
     ]
    }
   ],
   "source": [
    "item2.raise_by = 1.06\n",
    "\n",
    "print(item_price.raise_by)\n",
    "print(item1.raise_by)\n",
    "print(item2.raise_by)"
   ]
  },
  {
   "cell_type": "markdown",
   "metadata": {},
   "source": [
    "Now, what if you want to have a variable that is only a class variable! Let's count the number of items:"
   ]
  },
  {
   "cell_type": "code",
   "execution_count": 18,
   "metadata": {},
   "outputs": [
    {
     "name": "stdout",
     "output_type": "stream",
     "text": [
      "2\n"
     ]
    }
   ],
   "source": [
    "class item_price:\n",
    "    raise_by = 1.04\n",
    "    items = 0\n",
    "    def __init__(self,name,price):\n",
    "        self.name = name\n",
    "        self.price = price\n",
    "        \n",
    "        item_price.items += 1\n",
    "        \n",
    "    \n",
    "    # Method for raising the price\n",
    "    def raising(self):\n",
    "        self.price = self.price * self.raise_by\n",
    "        \n",
    "\n",
    "item1 = item_price(\"Ipad\", 200)\n",
    "item2 = item_price(\"Iphone\",100)\n",
    "\n",
    "print(item_price.items)"
   ]
  },
  {
   "cell_type": "markdown",
   "metadata": {},
   "source": [
    "## 2.2 Class Methods \n",
    "As it should be obvious from their names, these methods are for the class itself! They will effect all class even if you run them for one instance. Let's now define a class method that defines **raise_by** for all the class. Here our knowldege of the decorators will come handy! We should call the **@classmethod** decoration before we define a class method and to make it easy in python we use **cls** that does the same thing as **self** but for class methods."
   ]
  },
  {
   "cell_type": "code",
   "execution_count": 19,
   "metadata": {},
   "outputs": [
    {
     "name": "stdout",
     "output_type": "stream",
     "text": [
      "1.06\n",
      "1.06\n",
      "1.06\n"
     ]
    }
   ],
   "source": [
    "class item_price:\n",
    "    raise_by = 1.04\n",
    "    items = 0\n",
    "    def __init__(self,name,price):\n",
    "        self.name = name\n",
    "        self.price = price\n",
    "        \n",
    "        item_price.items += 1\n",
    "        \n",
    "    \n",
    "    # Method for raising the price\n",
    "    def raising(self):\n",
    "        self.price = self.price * self.raise_by\n",
    "        \n",
    "    @classmethod\n",
    "    def raising_by(cls,amount):\n",
    "        cls.raise_by = amount\n",
    "        \n",
    "item1 = item_price(\"Ipad\", 200)\n",
    "item2 = item_price(\"Iphone\",100)\n",
    "\n",
    "item_price.raising_by(1.06)\n",
    "\n",
    "\n",
    "print(item_price.raise_by)\n",
    "print(item1.raise_by)\n",
    "print(item2.raise_by)"
   ]
  },
  {
   "cell_type": "markdown",
   "metadata": {},
   "source": [
    "The other name given to class methods is constructors! In order to see why, let us think that in our store the person who sends us the item name and price of the data sends a - separated list and we want to feed these data to our class! But, each time we have to split them first! But one day, a voice comes in our head and says **One shall know class methods are constructors, one shall remember all the time** *class,method 101*! Then we write our class as follwoing:"
   ]
  },
  {
   "cell_type": "code",
   "execution_count": 20,
   "metadata": {},
   "outputs": [
    {
     "name": "stdout",
     "output_type": "stream",
     "text": [
      "fish\n",
      "100\n"
     ]
    }
   ],
   "source": [
    "class item_price:\n",
    "    raise_by = 1.04\n",
    "    items = 0\n",
    "    def __init__(self,name,price):\n",
    "        self.name = name\n",
    "        self.price = price\n",
    "        \n",
    "        item_price.items += 1\n",
    "        \n",
    "    \n",
    "    # Method for raising the price\n",
    "    def raising(self):\n",
    "        self.price = self.price * self.raise_by\n",
    "        \n",
    "    @classmethod\n",
    "    def raising_by(cls,amount):\n",
    "        cls.raise_by = amount\n",
    "    \n",
    "    @classmethod\n",
    "    def seprate_first(cls,item_name):\n",
    "        name, price = item_name.split('-')\n",
    "        return cls(name,price)\n",
    "    \n",
    "item_ = \"fish-100\"\n",
    "normal_item = item_price.seprate_first(item_)\n",
    "\n",
    "print(normal_item.name)\n",
    "print(normal_item.price)"
   ]
  },
  {
   "cell_type": "markdown",
   "metadata": {},
   "source": [
    "## 2.3 Static Methods\n",
    "These methods do not take anything from the class or the instance! They can be useful, for example let's say we want to see what day of the week is a specific date! "
   ]
  },
  {
   "cell_type": "code",
   "execution_count": 21,
   "metadata": {},
   "outputs": [
    {
     "data": {
      "text/plain": [
       "'Friday'"
      ]
     },
     "execution_count": 21,
     "metadata": {},
     "output_type": "execute_result"
    }
   ],
   "source": [
    "class item_price:\n",
    "    raise_by = 1.04\n",
    "    items = 0\n",
    "    def __init__(self,name,price):\n",
    "        self.name = name\n",
    "        self.price = price\n",
    "        \n",
    "        item_price.items += 1\n",
    "        \n",
    "    \n",
    "    # Method for raising the price\n",
    "    def raising(self):\n",
    "        self.price = self.price * self.raise_by\n",
    "        \n",
    "    @classmethod\n",
    "    def raising_by(cls,amount):\n",
    "        cls.raise_by = amount\n",
    "    \n",
    "    @classmethod\n",
    "    def seprate_first(cls,item_name):\n",
    "        name, price = item_name.split('-')\n",
    "        return cls(name,price)\n",
    "    \n",
    "    @staticmethod\n",
    "    def day_of_week(y,m,d):\n",
    "        date = datetime.date(y,m,d)\n",
    "        return calendar.day_name[date.weekday()]\n",
    "import calendar\n",
    "import datetime\n",
    "\n",
    "item_price.day_of_week(2017, 10, 20)\n",
    "        \n",
    "    "
   ]
  },
  {
   "cell_type": "markdown",
   "metadata": {},
   "source": [
    "## 2.4 Sub-Classes:\n",
    "Now let's use our example for the item and the price! Let's say that we want to have a class that takes all of the information for the item but only for electronics and also a new info such as the brand! We can use a subclass and the codes we have already written for our item to avoid reinventing the wheel ?! That is **super** easy ;) "
   ]
  },
  {
   "cell_type": "code",
   "execution_count": 22,
   "metadata": {},
   "outputs": [
    {
     "name": "stdout",
     "output_type": "stream",
     "text": [
      "TV\n",
      "Samsung\n"
     ]
    }
   ],
   "source": [
    "class item_price:\n",
    "    raise_by = 1.04\n",
    "    items = 0\n",
    "    def __init__(self,name,price):\n",
    "        self.name = name\n",
    "        self.price = price\n",
    "        \n",
    "class electronics(item_price):\n",
    "    raise_by = 1.07\n",
    "    def __init__(self,name,price,brand):\n",
    "        \n",
    "        # we are using the mother class here\n",
    "        super().__init__(name,price)\n",
    "        self.brand = brand\n",
    "\n",
    "item1 = electronics(\"TV\",10000,\"Samsung\")\n",
    "item2 = electronics(\"Phone\",10000,\"Apple\")\n",
    "print(item1.name)\n",
    "print(item1.brand)"
   ]
  },
  {
   "cell_type": "markdown",
   "metadata": {},
   "source": [
    "## 2.5 Special Method\n",
    "Special methods in python are the ones that are Dundered!$ __ __ $ This is a dunder and anything in between is special! For example $__init__$ is a special method that we are using! They are tons of special methods and if you want more information go [here](https://docs.python.org/3/reference/datamodel.html#special-method-names), we are going to see some examples. First let's see how items looks like when we print them! "
   ]
  },
  {
   "cell_type": "code",
   "execution_count": 23,
   "metadata": {},
   "outputs": [
    {
     "name": "stdout",
     "output_type": "stream",
     "text": [
      "<__main__.item_price object at 0x10cdb64a8>\n"
     ]
    }
   ],
   "source": [
    "class item_price:\n",
    "    raise_by = 1.04\n",
    "    items = 0\n",
    "    def __init__(self,name,price):\n",
    "        self.name = name\n",
    "        self.price = price\n",
    "item1 = item_price(\"Ipad\", 200)\n",
    "print(item1)"
   ]
  },
  {
   "cell_type": "markdown",
   "metadata": {},
   "source": [
    "UGLY HA! Let's fix this with special methods and make a user friendly version for programmer and one for user. For the programmer version we are going to use $__repr__$ and for user user we are going to use $__str__$ special methods"
   ]
  },
  {
   "cell_type": "code",
   "execution_count": 24,
   "metadata": {},
   "outputs": [
    {
     "name": "stdout",
     "output_type": "stream",
     "text": [
      "item_price(Ipad,200)\n"
     ]
    }
   ],
   "source": [
    "# Programer version\n",
    "class item_price:\n",
    "    raise_by = 1.04\n",
    "    items = 0\n",
    "    def __init__(self,name,price):\n",
    "        self.name = name\n",
    "        self.price = price\n",
    "    def __repr__(self):\n",
    "        return \"item_price({},{})\".format(self.name,self.price)\n",
    "    \n",
    "item1 = item_price(\"Ipad\", 200)\n",
    "print(item1)"
   ]
  },
  {
   "cell_type": "code",
   "execution_count": 25,
   "metadata": {},
   "outputs": [
    {
     "name": "stdout",
     "output_type": "stream",
     "text": [
      "The item is a Ipad and it's price is 200\n"
     ]
    }
   ],
   "source": [
    "# User version\n",
    "class item_price:\n",
    "    raise_by = 1.04\n",
    "    items = 0\n",
    "    def __init__(self,name,price):\n",
    "        self.name = name\n",
    "        self.price = price\n",
    "    def __str__(self):\n",
    "        return \"The item is a {} and it's price is {}\".format(self.name,self.price)\n",
    "    \n",
    "item1 = item_price(\"Ipad\", 200)\n",
    "print(item1)"
   ]
  },
  {
   "cell_type": "markdown",
   "metadata": {},
   "source": [
    "Now let's say we want to add item prices to each other and print them! Easy $__add__$ will come to rescue"
   ]
  },
  {
   "cell_type": "code",
   "execution_count": 26,
   "metadata": {},
   "outputs": [
    {
     "name": "stdout",
     "output_type": "stream",
     "text": [
      "2200\n"
     ]
    }
   ],
   "source": [
    "class item_price:\n",
    "    raise_by = 1.04\n",
    "    items = 0\n",
    "    def __init__(self,name,price):\n",
    "        self.name = name\n",
    "        self.price = price\n",
    "    def __str__(self):\n",
    "        return \"The item is a {} and it's price is {}\".format(self.name,self.price)\n",
    "    \n",
    "    # self is for one instance and other is for the other !\n",
    "    def __add__(self,other):\n",
    "        return self.price + other.price\n",
    "        \n",
    "item1 = item_price(\"Ipad\", 200)\n",
    "item2 = item_price(\"TV\", 2000)\n",
    "print(item1 + item2)"
   ]
  },
  {
   "cell_type": "markdown",
   "metadata": {},
   "source": [
    "## 2.6 Decorating More!\n",
    "Now that we know what are decoration functions, we can use some built in decoration functions in python such as **setter**, **deleter** and **property**. In order to show this, let's say our item has a name and brand and we call it full information of the item! Now let's say we figured out that we entered the name of the product wrong and we want to change it! We do not want to re-run the time_info (as following) all the time we change something? so what should we do?"
   ]
  },
  {
   "cell_type": "code",
   "execution_count": 27,
   "metadata": {},
   "outputs": [
    {
     "name": "stdout",
     "output_type": "stream",
     "text": [
      "TV-Samsung\n"
     ]
    }
   ],
   "source": [
    "class item_price:\n",
    "    def __init__(self,name,brand):\n",
    "        self.name = name\n",
    "        self.brand = brand\n",
    "    \n",
    "    def item_info(self):\n",
    "        return \"{}-{}\".format(self.name, self.brand)\n",
    "    \n",
    "item1 = item_price(\"TV\", \"Apple\")\n",
    "    \n",
    "# Now let's change the name \n",
    "item1.brand = \"Samsung\"\n",
    "print(item1.item_info())"
   ]
  },
  {
   "cell_type": "markdown",
   "metadata": {},
   "source": [
    "OK the answer is ...... Decoration of course! We can use **@property** decoration that will make **item_info** an attribute! Let's see it in action:"
   ]
  },
  {
   "cell_type": "code",
   "execution_count": 28,
   "metadata": {},
   "outputs": [
    {
     "name": "stdout",
     "output_type": "stream",
     "text": [
      "TV-Samsung\n"
     ]
    }
   ],
   "source": [
    "class item_price:\n",
    "    def __init__(self,name,brand):\n",
    "        self.name = name\n",
    "        self.brand = brand\n",
    "    \n",
    "    @property\n",
    "    def item_info(self):\n",
    "        return \"{}-{}\".format(self.name, self.brand)\n",
    "    \n",
    "item1 = item_price(\"TV\", \"Apple\")\n",
    "\n",
    "# Now let's change the name \n",
    "item1.brand = \"Samsung\"\n",
    "print(item1.item_info)"
   ]
  },
  {
   "cell_type": "markdown",
   "metadata": {},
   "source": [
    "Now let's say again we get an item's full information as \"name-brand\" and we want to feed this to our class to **item_info** attribute in a way that it also changes the name and brand in whole class! We can do that with **setter**. We have to make a method with the same name but as following:"
   ]
  },
  {
   "cell_type": "code",
   "execution_count": 29,
   "metadata": {},
   "outputs": [
    {
     "name": "stdout",
     "output_type": "stream",
     "text": [
      "Samsung\n",
      "phone\n"
     ]
    }
   ],
   "source": [
    "class item_price:\n",
    "    def __init__(self,name,brand):\n",
    "        self.name = name\n",
    "        self.brand = brand\n",
    "    \n",
    "    @property\n",
    "    def item_info(self):\n",
    "        return \"{}-{}\".format(self.name, self.brand)\n",
    "    \n",
    "    @item_info.setter\n",
    "    def item_info(self,info_name):\n",
    "        name, brand = info_name.split('-')\n",
    "        self.name = name\n",
    "        self.brand = brand\n",
    "            \n",
    "item1 = item_price(\"TV\", \"Apple\")\n",
    "item1.item_info = \"Samsung-phone\"\n",
    "\n",
    "print(item1.name)\n",
    "print(item1.brand)"
   ]
  },
  {
   "cell_type": "markdown",
   "metadata": {},
   "source": [
    "Also, let's take a look at the case where we want to remove:"
   ]
  },
  {
   "cell_type": "code",
   "execution_count": 30,
   "metadata": {},
   "outputs": [
    {
     "name": "stdout",
     "output_type": "stream",
     "text": [
      "Info deleted\n",
      "None\n",
      "None\n"
     ]
    }
   ],
   "source": [
    "class item_price:\n",
    "    def __init__(self,name,brand):\n",
    "        self.name = name\n",
    "        self.brand = brand\n",
    "    \n",
    "    @property\n",
    "    def item_info(self):\n",
    "        return \"{}-{}\".format(self.name, self.brand)\n",
    "    \n",
    "    @item_info.setter\n",
    "    def item_info(self,info_name):\n",
    "        name, brand = info_name.split('-')\n",
    "        self.name = name\n",
    "        self.brand = brand\n",
    "    \n",
    "    @item_info.deleter\n",
    "    def item_info(self):\n",
    "        print(\"Info deleted\")\n",
    "        self.name = None\n",
    "        self.brand = None\n",
    "        \n",
    "item1 = item_price(\"TV\", \"Apple\")\n",
    "item1.item_info = \"Samsung-phone\"\n",
    "\n",
    "del item1.item_info\n",
    "print(item1.name)\n",
    "print(item1.brand)"
   ]
  }
 ],
 "metadata": {
  "kernelspec": {
   "display_name": "Python 3",
   "language": "python",
   "name": "python3"
  },
  "language_info": {
   "codemirror_mode": {
    "name": "ipython",
    "version": 3
   },
   "file_extension": ".py",
   "mimetype": "text/x-python",
   "name": "python",
   "nbconvert_exporter": "python",
   "pygments_lexer": "ipython3",
   "version": "3.6.4"
  }
 },
 "nbformat": 4,
 "nbformat_minor": 2
}
